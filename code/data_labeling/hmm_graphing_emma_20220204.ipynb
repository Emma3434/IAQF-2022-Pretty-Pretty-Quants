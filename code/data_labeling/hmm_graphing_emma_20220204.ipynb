{
 "cells": [
  {
   "cell_type": "code",
   "execution_count": 20,
   "id": "9c82adf8",
   "metadata": {},
   "outputs": [],
   "source": [
    "import yfinance as yf\n",
    "import pandas as pd\n",
    "import numpy as np\n",
    "import networkx as nx\n",
    "\n",
    "# df = yf.download('^RUA')\n",
    "# df"
   ]
  },
  {
   "cell_type": "code",
   "execution_count": 4,
   "id": "e57a90b7",
   "metadata": {},
   "outputs": [
    {
     "data": {
      "text/plain": [
       "<AxesSubplot:xlabel='Date'>"
      ]
     },
     "execution_count": 4,
     "metadata": {},
     "output_type": "execute_result"
    },
    {
     "data": {
      "image/png": "[encoded data removed]",
      "text/plain": [
       "<Figure size 432x288 with 1 Axes>"
      ]
     },
     "metadata": {
      "needs_background": "light"
     },
     "output_type": "display_data"
    }
   ],
   "source": [
    "df[['Close']].plot()"
   ]
  },
  {
   "cell_type": "code",
   "execution_count": 5,
   "id": "18b525f5",
   "metadata": {},
   "outputs": [
    {
     "name": "stdout",
     "output_type": "stream",
     "text": [
      "[*********************100%***********************]  1 of 1 completed\n"
     ]
    },
    {
     "data": {
      "text/html": [
       "<div>\n",
       "<style scoped>\n",
       "    .dataframe tbody tr th:only-of-type {\n",
       "        vertical-align: middle;\n",
       "    }\n",
       "\n",
       "    .dataframe tbody tr th {\n",
       "        vertical-align: top;\n",
       "    }\n",
       "\n",
       "    .dataframe thead th {\n",
       "        text-align: right;\n",
       "    }\n",
       "</style>\n",
       "<table border=\"1\" class=\"dataframe\">\n",
       "  <thead>\n",
       "    <tr style=\"text-align: right;\">\n",
       "      <th></th>\n",
       "      <th>Date</th>\n",
       "      <th>Open</th>\n",
       "      <th>High</th>\n",
       "      <th>Low</th>\n",
       "      <th>Close</th>\n",
       "      <th>Adj Close</th>\n",
       "      <th>Volume</th>\n",
       "    </tr>\n",
       "  </thead>\n",
       "  <tbody>\n",
       "    <tr>\n",
       "      <th>0</th>\n",
       "      <td>2000-01-03</td>\n",
       "      <td>793.309998</td>\n",
       "      <td>798.419983</td>\n",
       "      <td>776.400024</td>\n",
       "      <td>786.200012</td>\n",
       "      <td>786.200012</td>\n",
       "      <td>0</td>\n",
       "    </tr>\n",
       "    <tr>\n",
       "      <th>1</th>\n",
       "      <td>2000-01-04</td>\n",
       "      <td>786.270020</td>\n",
       "      <td>786.270020</td>\n",
       "      <td>754.739990</td>\n",
       "      <td>755.799988</td>\n",
       "      <td>755.799988</td>\n",
       "      <td>0</td>\n",
       "    </tr>\n",
       "    <tr>\n",
       "      <th>2</th>\n",
       "      <td>2000-01-05</td>\n",
       "      <td>755.799988</td>\n",
       "      <td>762.210022</td>\n",
       "      <td>742.820007</td>\n",
       "      <td>757.090027</td>\n",
       "      <td>757.090027</td>\n",
       "      <td>0</td>\n",
       "    </tr>\n",
       "    <tr>\n",
       "      <th>3</th>\n",
       "      <td>2000-01-06</td>\n",
       "      <td>757.090027</td>\n",
       "      <td>761.960022</td>\n",
       "      <td>751.590027</td>\n",
       "      <td>756.729980</td>\n",
       "      <td>756.729980</td>\n",
       "      <td>0</td>\n",
       "    </tr>\n",
       "    <tr>\n",
       "      <th>4</th>\n",
       "      <td>2000-01-07</td>\n",
       "      <td>756.729980</td>\n",
       "      <td>777.250000</td>\n",
       "      <td>755.460022</td>\n",
       "      <td>777.250000</td>\n",
       "      <td>777.250000</td>\n",
       "      <td>0</td>\n",
       "    </tr>\n",
       "  </tbody>\n",
       "</table>\n",
       "</div>"
      ],
      "text/plain": [
       "        Date        Open        High         Low       Close   Adj Close  \\\n",
       "0 2000-01-03  793.309998  798.419983  776.400024  786.200012  786.200012   \n",
       "1 2000-01-04  786.270020  786.270020  754.739990  755.799988  755.799988   \n",
       "2 2000-01-05  755.799988  762.210022  742.820007  757.090027  757.090027   \n",
       "3 2000-01-06  757.090027  761.960022  751.590027  756.729980  756.729980   \n",
       "4 2000-01-07  756.729980  777.250000  755.460022  777.250000  777.250000   \n",
       "\n",
       "   Volume  \n",
       "0       0  \n",
       "1       0  \n",
       "2       0  \n",
       "3       0  \n",
       "4       0  "
      ]
     },
     "execution_count": 5,
     "metadata": {},
     "output_type": "execute_result"
    }
   ],
   "source": [
    "# import pandasdatareader as web\n",
    "# df = web.DataReader('^IXIC', data_source = 'yahoo', start = '2000-01-01')\n",
    "df = yf.download('^RUA',start = '2000-01-01')\n",
    "df.reset_index(inplace = True) #resetting index\n",
    "df.head() # display"
   ]
  },
  {
   "cell_type": "code",
   "execution_count": 6,
   "id": "2ed99586",
   "metadata": {},
   "outputs": [
    {
     "name": "stderr",
     "output_type": "stream",
     "text": [
      "C:\\Users\\lemon\\AppData\\Local\\Temp/ipykernel_16472/3093553083.py:2: SettingWithCopyWarning: \n",
      "A value is trying to be set on a copy of a slice from a DataFrame.\n",
      "Try using .loc[row_indexer,col_indexer] = value instead\n",
      "\n",
      "See the caveats in the documentation: https://pandas.pydata.org/pandas-docs/stable/user_guide/indexing.html#returning-a-view-versus-a-copy\n",
      "  data['pct_ret'] = data['Adj Close'].pct_change()\n",
      "C:\\Users\\lemon\\AppData\\Local\\Temp/ipykernel_16472/3093553083.py:4: SettingWithCopyWarning: \n",
      "A value is trying to be set on a copy of a slice from a DataFrame.\n",
      "Try using .loc[row_indexer,col_indexer] = value instead\n",
      "\n",
      "See the caveats in the documentation: https://pandas.pydata.org/pandas-docs/stable/user_guide/indexing.html#returning-a-view-versus-a-copy\n",
      "  data['state'] = data['pct_ret'].apply(lambda x: 'up' if (x > 0.001)\\\n"
     ]
    },
    {
     "data": {
      "text/html": [
       "<div>\n",
       "<style scoped>\n",
       "    .dataframe tbody tr th:only-of-type {\n",
       "        vertical-align: middle;\n",
       "    }\n",
       "\n",
       "    .dataframe tbody tr th {\n",
       "        vertical-align: top;\n",
       "    }\n",
       "\n",
       "    .dataframe thead th {\n",
       "        text-align: right;\n",
       "    }\n",
       "</style>\n",
       "<table border=\"1\" class=\"dataframe\">\n",
       "  <thead>\n",
       "    <tr style=\"text-align: right;\">\n",
       "      <th></th>\n",
       "      <th>High</th>\n",
       "      <th>Low</th>\n",
       "      <th>Open</th>\n",
       "      <th>Adj Close</th>\n",
       "      <th>pct_ret</th>\n",
       "      <th>state</th>\n",
       "    </tr>\n",
       "  </thead>\n",
       "  <tbody>\n",
       "    <tr>\n",
       "      <th>5525</th>\n",
       "      <td>2567.169922</td>\n",
       "      <td>2484.850098</td>\n",
       "      <td>2505.919922</td>\n",
       "      <td>2566.790039</td>\n",
       "      <td>0.024397</td>\n",
       "      <td>up</td>\n",
       "    </tr>\n",
       "    <tr>\n",
       "      <th>5526</th>\n",
       "      <td>2622.290039</td>\n",
       "      <td>2558.979980</td>\n",
       "      <td>2566.699951</td>\n",
       "      <td>2621.969971</td>\n",
       "      <td>0.021498</td>\n",
       "      <td>up</td>\n",
       "    </tr>\n",
       "    <tr>\n",
       "      <th>5527</th>\n",
       "      <td>2644.320068</td>\n",
       "      <td>2602.290039</td>\n",
       "      <td>2622.000000</td>\n",
       "      <td>2642.229980</td>\n",
       "      <td>0.007727</td>\n",
       "      <td>up</td>\n",
       "    </tr>\n",
       "    <tr>\n",
       "      <th>5528</th>\n",
       "      <td>2662.360107</td>\n",
       "      <td>2634.629883</td>\n",
       "      <td>2642.379883</td>\n",
       "      <td>2659.229980</td>\n",
       "      <td>0.006434</td>\n",
       "      <td>up</td>\n",
       "    </tr>\n",
       "    <tr>\n",
       "      <th>5529</th>\n",
       "      <td>2620.303223</td>\n",
       "      <td>2580.095703</td>\n",
       "      <td>2593.710205</td>\n",
       "      <td>2617.215088</td>\n",
       "      <td>-0.015800</td>\n",
       "      <td>down</td>\n",
       "    </tr>\n",
       "  </tbody>\n",
       "</table>\n",
       "</div>"
      ],
      "text/plain": [
       "             High          Low         Open    Adj Close   pct_ret state\n",
       "5525  2567.169922  2484.850098  2505.919922  2566.790039  0.024397    up\n",
       "5526  2622.290039  2558.979980  2566.699951  2621.969971  0.021498    up\n",
       "5527  2644.320068  2602.290039  2622.000000  2642.229980  0.007727    up\n",
       "5528  2662.360107  2634.629883  2642.379883  2659.229980  0.006434    up\n",
       "5529  2620.303223  2580.095703  2593.710205  2617.215088 -0.015800  down"
      ]
     },
     "execution_count": 6,
     "metadata": {},
     "output_type": "execute_result"
    }
   ],
   "source": [
    "data = df[['High','Low','Open','Adj Close']]\n",
    "data['pct_ret'] = data['Adj Close'].pct_change()\n",
    "data.tail()\n",
    "data['state'] = data['pct_ret'].apply(lambda x: 'up' if (x > 0.001)\\\n",
    "else ('down' if (x < -0.001)\\\n",
    "else 'no_change'))\n",
    "data.tail()"
   ]
  },
  {
   "cell_type": "code",
   "execution_count": 8,
   "id": "cc71d519",
   "metadata": {},
   "outputs": [
    {
     "data": {
      "text/html": [
       "<div>\n",
       "<style scoped>\n",
       "    .dataframe tbody tr th:only-of-type {\n",
       "        vertical-align: middle;\n",
       "    }\n",
       "\n",
       "    .dataframe tbody tr th {\n",
       "        vertical-align: top;\n",
       "    }\n",
       "\n",
       "    .dataframe thead th {\n",
       "        text-align: right;\n",
       "    }\n",
       "</style>\n",
       "<table border=\"1\" class=\"dataframe\">\n",
       "  <thead>\n",
       "    <tr style=\"text-align: right;\">\n",
       "      <th>state</th>\n",
       "      <th>down</th>\n",
       "      <th>no_change</th>\n",
       "      <th>up</th>\n",
       "    </tr>\n",
       "    <tr>\n",
       "      <th>prev_state</th>\n",
       "      <th></th>\n",
       "      <th></th>\n",
       "      <th></th>\n",
       "    </tr>\n",
       "  </thead>\n",
       "  <tbody>\n",
       "    <tr>\n",
       "      <th>down</th>\n",
       "      <td>867</td>\n",
       "      <td>199</td>\n",
       "      <td>1148</td>\n",
       "    </tr>\n",
       "    <tr>\n",
       "      <th>no_change</th>\n",
       "      <td>246</td>\n",
       "      <td>97</td>\n",
       "      <td>328</td>\n",
       "    </tr>\n",
       "    <tr>\n",
       "      <th>up</th>\n",
       "      <td>1102</td>\n",
       "      <td>374</td>\n",
       "      <td>1168</td>\n",
       "    </tr>\n",
       "  </tbody>\n",
       "</table>\n",
       "</div>"
      ],
      "text/plain": [
       "state       down  no_change    up\n",
       "prev_state                       \n",
       "down         867        199  1148\n",
       "no_change    246         97   328\n",
       "up          1102        374  1168"
      ]
     },
     "execution_count": 8,
     "metadata": {},
     "output_type": "execute_result"
    }
   ],
   "source": [
    "data['prev_state'] = data['state'].shift(1)\n",
    "data.tail()\n",
    "state_space = data[['prev_state', 'state']]\n",
    "state_space_matrix = data.groupby(['prev_state', 'state']).size().unstack()\n",
    "state_space_matrix"
   ]
  },
  {
   "cell_type": "code",
   "execution_count": 9,
   "id": "d4a6a69e",
   "metadata": {},
   "outputs": [
    {
     "name": "stdout",
     "output_type": "stream",
     "text": [
      "state\n",
      "down         2215\n",
      "no_change     670\n",
      "up           2644\n",
      "dtype: int64\n"
     ]
    }
   ],
   "source": [
    "print(state_space_matrix.sum())"
   ]
  },
  {
   "cell_type": "code",
   "execution_count": 11,
   "id": "4777a4dd",
   "metadata": {},
   "outputs": [
    {
     "data": {
      "text/html": [
       "<div>\n",
       "<style scoped>\n",
       "    .dataframe tbody tr th:only-of-type {\n",
       "        vertical-align: middle;\n",
       "    }\n",
       "\n",
       "    .dataframe tbody tr th {\n",
       "        vertical-align: top;\n",
       "    }\n",
       "\n",
       "    .dataframe thead th {\n",
       "        text-align: right;\n",
       "    }\n",
       "</style>\n",
       "<table border=\"1\" class=\"dataframe\">\n",
       "  <thead>\n",
       "    <tr style=\"text-align: right;\">\n",
       "      <th>state</th>\n",
       "      <th>down</th>\n",
       "      <th>no_change</th>\n",
       "      <th>up</th>\n",
       "    </tr>\n",
       "    <tr>\n",
       "      <th>prev_state</th>\n",
       "      <th></th>\n",
       "      <th></th>\n",
       "      <th></th>\n",
       "    </tr>\n",
       "  </thead>\n",
       "  <tbody>\n",
       "    <tr>\n",
       "      <th>down</th>\n",
       "      <td>0.391599</td>\n",
       "      <td>0.089883</td>\n",
       "      <td>0.518519</td>\n",
       "    </tr>\n",
       "    <tr>\n",
       "      <th>no_change</th>\n",
       "      <td>0.366617</td>\n",
       "      <td>0.144560</td>\n",
       "      <td>0.488823</td>\n",
       "    </tr>\n",
       "    <tr>\n",
       "      <th>up</th>\n",
       "      <td>0.416793</td>\n",
       "      <td>0.141452</td>\n",
       "      <td>0.441755</td>\n",
       "    </tr>\n",
       "  </tbody>\n",
       "</table>\n",
       "</div>"
      ],
      "text/plain": [
       "state           down  no_change        up\n",
       "prev_state                               \n",
       "down        0.391599   0.089883  0.518519\n",
       "no_change   0.366617   0.144560  0.488823\n",
       "up          0.416793   0.141452  0.441755"
      ]
     },
     "execution_count": 11,
     "metadata": {},
     "output_type": "execute_result"
    }
   ],
   "source": [
    "transition_matrix = state_space_matrix.apply(lambda x: x/float(x.sum()),axis = 1)\n",
    "transition_matrix"
   ]
  },
  {
   "cell_type": "code",
   "execution_count": 13,
   "id": "3be78019",
   "metadata": {},
   "outputs": [
    {
     "name": "stdout",
     "output_type": "stream",
     "text": [
      "prev_state\n",
      "down         1.0\n",
      "no_change    1.0\n",
      "up           1.0\n",
      "dtype: float64\n"
     ]
    }
   ],
   "source": [
    "print(transition_matrix.sum(axis = 1))"
   ]
  },
  {
   "cell_type": "code",
   "execution_count": 17,
   "id": "3439c05e",
   "metadata": {},
   "outputs": [
    {
     "name": "stdout",
     "output_type": "stream",
     "text": [
      "{('down', 'down'): 0.3915989159891599, ('no_change', 'down'): 0.36661698956780925, ('up', 'down'): 0.4167927382753404, ('down', 'no_change'): 0.08988256549232158, ('no_change', 'no_change'): 0.14456035767511177, ('up', 'no_change'): 0.14145234493192133, ('down', 'up'): 0.5185185185185185, ('no_change', 'up'): 0.488822652757079, ('up', 'up'): 0.44175491679273826} /n\n"
     ]
    }
   ],
   "source": [
    "def _get_markov_edges(Q):\n",
    "    edges = {}\n",
    "    for col in Q.columns:\n",
    "        for idx in Q.index:\n",
    "            edges[(idx,col)] = Q.loc[idx,col]\n",
    "    return edges\n",
    "edges_wts = _get_markov_edges(transition_matrix)\n",
    "print(edges_wts)"
   ]
  },
  {
   "cell_type": "markdown",
   "id": "7c3410cd",
   "metadata": {},
   "source": [
    "# Graph"
   ]
  },
  {
   "cell_type": "code",
   "execution_count": 36,
   "id": "b4a2c257",
   "metadata": {},
   "outputs": [
    {
     "name": "stdout",
     "output_type": "stream",
     "text": [
      "Nodes:\n",
      "['down', 'no_change', 'up']\n",
      "\n",
      "Edges:\n",
      "[('down', 'down', {'weight': 0.3915989159891599, 'label': 0.3915989159891599}), ('down', 'no_change', {'weight': 0.08988256549232158, 'label': 0.08988256549232158}), ('down', 'up', {'weight': 0.5185185185185185, 'label': 0.5185185185185185}), ('no_change', 'down', {'weight': 0.36661698956780925, 'label': 0.36661698956780925}), ('no_change', 'no_change', {'weight': 0.14456035767511177, 'label': 0.14456035767511177}), ('no_change', 'up', {'weight': 0.488822652757079, 'label': 0.488822652757079}), ('up', 'down', {'weight': 0.4167927382753404, 'label': 0.4167927382753404}), ('up', 'no_change', {'weight': 0.14145234493192133, 'label': 0.14145234493192133}), ('up', 'up', {'weight': 0.44175491679273826, 'label': 0.44175491679273826})]\n"
     ]
    }
   ],
   "source": [
    "states = ['up', 'down', 'no_change']\n",
    "G = nx.MultiDiGraph()\n",
    "# nodes correspond to states\n",
    "G.add_nodes_from(state_space_matrix)\n",
    "print(f'Nodes:\\n{G.nodes()}\\n')\n",
    "# edges represent transition probabilities\n",
    "for k, v in edges_wts.items():\n",
    "    tmp_origin, tmp_destination = k[0], k[1]\n",
    "    G.add_edge(tmp_origin, tmp_destination, weight=v, label=v)\n",
    "print(f'Edges:')\n",
    "print(G.edges(data=True))"
   ]
  },
  {
   "cell_type": "code",
   "execution_count": null,
   "id": "3894518f",
   "metadata": {},
   "outputs": [],
   "source": [
    "# pos = nx.drawing.nx_pydot.graphviz_layout(G, prog='dot')\n",
    "# nx.draw_networkx(G, pos)\n",
    "# edge_labels = {(n1,n2):d['label'] for n1,n2,d in G.edges(data=True)}\n",
    "# nx.draw_networkx_edge_labels(G , pos, edge_labels=edge_labels)\n",
    "# nx.drawing.nx_pydot.write_dot(G, 'nasdaq_markov.dot')"
   ]
  },
  {
   "cell_type": "markdown",
   "id": "1606894e",
   "metadata": {},
   "source": [
    "# Feature engineering"
   ]
  },
  {
   "cell_type": "code",
   "execution_count": null,
   "id": "f30fac9c",
   "metadata": {},
   "outputs": [],
   "source": [
    "quotes = []\n",
    "for row_set in range(0,100000):\n",
    "    if row_set % 2000 == 0: print(row_set)"
   ]
  }
 ],
 "metadata": {
  "kernelspec": {
   "display_name": "Python 3 (ipykernel)",
   "language": "python",
   "name": "python3"
  },
  "language_info": {
   "codemirror_mode": {
    "name": "ipython",
    "version": 3
   },
   "file_extension": ".py",
   "mimetype": "text/x-python",
   "name": "python",
   "nbconvert_exporter": "python",
   "pygments_lexer": "ipython3",
   "version": "3.9.7"
  },
  "toc": {
   "base_numbering": 1,
   "nav_menu": {},
   "number_sections": true,
   "sideBar": true,
   "skip_h1_title": false,
   "title_cell": "Table of Contents",
   "title_sidebar": "Contents",
   "toc_cell": false,
   "toc_position": {},
   "toc_section_display": true,
   "toc_window_display": false
  }
 },
 "nbformat": 4,
 "nbformat_minor": 5
}
