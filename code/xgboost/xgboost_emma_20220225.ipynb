{
 "cells": [
  {
   "cell_type": "code",
   "execution_count": 10,
   "metadata": {},
   "outputs": [],
   "source": [
    "from xgboost import XGBClassifier\n",
    "from sklearn.model_selection import GridSearchCV\n",
    "import numpy as np\n",
    "import pandas as pd\n",
    "import matplotlib.pyplot as plt\n",
    "import seaborn as sns\n",
    "import yfinance as yf\n",
    "from ta import add_all_ta_features\n",
    "from ta.trend import ema_indicator\n",
    "from sklearn.metrics import confusion_matrix\n",
    "from sklearn.model_selection import RandomizedSearchCV\n",
    "from sklearn.ensemble import RandomForestClassifier\n",
    "from sklearn.metrics import f1_score\n",
    "import datetime\n",
    "\n",
    "from strategy import *"
   ]
  },
  {
   "cell_type": "code",
   "execution_count": 11,
   "metadata": {},
   "outputs": [],
   "source": [
    "# Grid search\n",
    "xg_grid = {\n",
    "        'min_child_weight': [1, 5, 10],\n",
    "        'gamma': [0.5, 1, 1.5, 2, 5],\n",
    "        'max_depth': [3, 4, 5]\n",
    "        }"
   ]
  },
  {
   "cell_type": "code",
   "execution_count": 12,
   "metadata": {},
   "outputs": [],
   "source": [
    "def run_cerebro(dataname,train_start,random_grid,strategy):\n",
    "    df = pd.read_csv(dataname+'.csv',index_col=0)\n",
    "    \n",
    "    df.index = pd.to_datetime(df.index)\n",
    "    X_train, y_train = df.loc[train_start:'2018-01-01',:].iloc[:,:-2], df.loc[train_start:'2018-01-01']['state']\n",
    "    X_test, y_test = df.loc['2018-01-01':'2022-01-01',:].iloc[:,:-2], df.loc['2018-01-01':'2022-01-01']['state']\n",
    "\n",
    "    xg = XGBClassifier()\n",
    "    xg_random = RandomizedSearchCV(estimator = xg, param_distributions = random_grid, n_iter = 100, verbose=2, random_state=42, n_jobs = -1)# Fit the random search model\n",
    "    xg_random.fit(X_train, y_train)\n",
    "    params = xg_random.best_params_\n",
    "\n",
    "    model = XGBClassifier(**params).fit(X_train, y_train)\n",
    "\n",
    "    # model = XGBClassifier().fit(X_train, y_train)\n",
    "    y_pred = model.predict(X_test)\n",
    "\n",
    "    score = model.score(X_test,y_test)\n",
    "    f1 = f1_score(y_pred,y_test,average='weighted')\n",
    "\n",
    "    df.loc['2018-01-01':'2022-01-01',['predict']] = y_pred.reshape(-1,1)\n",
    "\n",
    "\n",
    "    # Backtesting\n",
    "    # df['Date']=pd.to_datetime(df.index)\n",
    "    df = df.reset_index()\n",
    "    state_column = df.shape[1]-1\n",
    "        # Instantiate Cerebro engine\n",
    "    cerebro = bt.Cerebro()\n",
    "\n",
    "    data = PandasData(\n",
    "        dataname = df,\n",
    "        fromdate=datetime.datetime(2018, 1, 2),\n",
    "        todate=datetime.datetime(2021, 12, 30),\n",
    "        datetime = 0,\n",
    "        open = 1,\n",
    "        high = 2,\n",
    "        low = 3,\n",
    "        close = 4,\n",
    "        state = state_column,\n",
    "    )\n",
    "\n",
    "    # Add data to Cerebro\n",
    "    cerebro.adddata(data)\n",
    "\n",
    "    # Add strategy to Cerebro\n",
    "    cerebro.addstrategy(strategy)\n",
    "\n",
    "    # Default position size\n",
    "    cerebro.addsizer(bt.sizers.SizerFix, stake=1)\n",
    "\n",
    "    # Add analytics to Cerebro\n",
    "    cerebro.addanalyzer(btanalyzers.SharpeRatio, _name='SharpeRatio')\n",
    "    cerebro.addanalyzer(btanalyzers.AnnualReturn, _name='AnnualReturn')\n",
    "    cerebro.addanalyzer(btanalyzers.DrawDown, _name='DrawDown')\n",
    "    cerebro.addanalyzer(btanalyzers.TimeDrawDown, _name='TimeDrawDown')\n",
    "    cerebro.addanalyzer(btanalyzers.PositionsValue, _name='PositionsValue')\n",
    "    cerebro.addanalyzer(btanalyzers.LogReturnsRolling, _name='LogReturnsRolling')\n",
    "    cerebro.addanalyzer(btanalyzers.PeriodStats, _name='PeriodStats')\n",
    "    cerebro.addanalyzer(btanalyzers.Returns, _name='Returns')\n",
    "    cerebro.addanalyzer(btanalyzers.TradeAnalyzer, _name='TradeAnalyzer')\n",
    "    cerebro.addanalyzer(btanalyzers.Transactions, _name='Transactions')\n",
    "\n",
    "    # Run Cerebro Engine\n",
    "    start_portfolio_value = cerebro.broker.getvalue()\n",
    "\n",
    "    # cerebro.run()\n",
    "    thestrats = cerebro.run()\n",
    "    thestrat = thestrats[0]\n",
    "\n",
    "    end_portfolio_value = cerebro.broker.getvalue()\n",
    "    pnl = end_portfolio_value - start_portfolio_value\n",
    "\n",
    "    print(f'Starting Portfolio Value: {start_portfolio_value:2f}')\n",
    "    print(f'Final Portfolio Value: {end_portfolio_value:2f}')\n",
    "    print(f'PnL: {pnl:.2f}\\n')\n",
    "\n",
    "\n",
    "    sharpe = thestrat.analyzers.SharpeRatio.get_analysis()['sharperatio']\n",
    "    # print(thestrat.analyzers.AnnualReturn.get_analysis())\n",
    "    # print(thestrat.analyzers.DrawDown.get_analysis())\n",
    "    # # print(thestrat.analyzers.TimeDrawDown.get_analysis())\n",
    "    # print(thestrat.analyzers.PositionsValue.get_analysis())\n",
    "    # print(thestrat.analyzers.LogReturnsRolling.get_analysis())\n",
    "    # print(thestrat.analyzers.PeriodStats.get_analysis())\n",
    "    # print(thestrat.analyzers.Returns.get_analysis())\n",
    "    # print(thestrat.analyzers.TradeAnalyzer.get_analysis())\n",
    "    # print(thestrat.analyzers.Transactions.get_analysis())\n",
    "    return pnl, sharpe, score, f1, params"
   ]
  },
  {
   "cell_type": "code",
   "execution_count": 13,
   "metadata": {},
   "outputs": [
    {
     "name": "stderr",
     "output_type": "stream",
     "text": [
      "C:\\Users\\lemon\\anaconda3\\lib\\site-packages\\sklearn\\model_selection\\_search.py:285: UserWarning: The total space of parameters 45 is smaller than n_iter=100. Running 45 iterations. For exhaustive searches, use GridSearchCV.\n",
      "  warnings.warn(\n"
     ]
    },
    {
     "name": "stdout",
     "output_type": "stream",
     "text": [
      "Fitting 5 folds for each of 45 candidates, totalling 225 fits\n"
     ]
    }
   ],
   "source": [
    "# datanames = ['y1_2003','y2_2003','y3_2003','y4_2003','y5_2003','gmm_1_labeled_2003','hmm_1_labeled_2003']\n",
    "datanames = ['y1_2003','y2_2003','y3_2003','y4_2003','y5_2003','gmm_1_labeled_2003','hmm_1_labeled_2003']\n",
    "train_start_list = ['2003-01-01','2010-01-04','2015-01-02']\n",
    "\n",
    "pnl_result = []\n",
    "pnl = 0\n",
    "for dataname in datanames:\n",
    "    for train_start in train_start_list:\n",
    "        pnl, sharpe, score, f1, params = run_cerebro(dataname,train_start,xg_grid,MarketStatus)\n",
    "        pnl_dic = {'dataname':dataname,\n",
    "                    'train_start':train_start,\n",
    "                    'pnl':pnl,\n",
    "                    'sharpe':sharpe,\n",
    "                    'score':score,\n",
    "                    'f1':f1,\n",
    "                    'params':params\n",
    "                    }\n",
    "        pnl_result.append(pnl_dic)\n",
    "pnl_result"
   ]
  },
  {
   "cell_type": "code",
   "execution_count": null,
   "metadata": {},
   "outputs": [],
   "source": [
    "pnl_result_df = pd.DataFrame(pnl_result)\n",
    "pnl_result_df.sort_values(by='pnl',ascending=False)\n",
    "pnl_result_df.to_excel('0 xg_result.xlsx')"
   ]
  },
  {
   "cell_type": "code",
   "execution_count": null,
   "metadata": {},
   "outputs": [],
   "source": []
  }
 ],
 "metadata": {
  "interpreter": {
   "hash": "b18ecf447b39d25eae6a9ae9d5694327d58d99c869301a8afbbe0bb2ae2074bb"
  },
  "kernelspec": {
   "display_name": "Python 3.9.7 ('base')",
   "language": "python",
   "name": "python3"
  },
  "language_info": {
   "codemirror_mode": {
    "name": "ipython",
    "version": 3
   },
   "file_extension": ".py",
   "mimetype": "text/x-python",
   "name": "python",
   "nbconvert_exporter": "python",
   "pygments_lexer": "ipython3",
   "version": "3.9.7"
  },
  "orig_nbformat": 4
 },
 "nbformat": 4,
 "nbformat_minor": 2
}
