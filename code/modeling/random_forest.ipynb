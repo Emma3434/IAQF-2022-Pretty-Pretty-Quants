{
 "cells": [
  {
   "cell_type": "code",
   "execution_count": 1,
   "id": "1202dcf8",
   "metadata": {},
   "outputs": [],
   "source": [
    "import numpy as np\n",
    "import pandas as pd\n",
    "import matplotlib.pyplot as plt\n",
    "import seaborn as sns\n",
    "import yfinance as yf\n",
    "from ta import add_all_ta_features\n",
    "from ta.trend import ema_indicator"
   ]
  },
  {
   "cell_type": "code",
   "execution_count": 2,
   "id": "71b6c4f3",
   "metadata": {},
   "outputs": [
    {
     "name": "stdout",
     "output_type": "stream",
     "text": [
      "[*********************100%***********************]  1 of 1 completed\n"
     ]
    }
   ],
   "source": [
    "data = yf.download('^RUA',start='1999-01-01')"
   ]
  },
  {
   "cell_type": "code",
   "execution_count": 3,
   "id": "bfd7be06",
   "metadata": {},
   "outputs": [
    {
     "data": {
      "text/html": [
       "<div>\n",
       "<style scoped>\n",
       "    .dataframe tbody tr th:only-of-type {\n",
       "        vertical-align: middle;\n",
       "    }\n",
       "\n",
       "    .dataframe tbody tr th {\n",
       "        vertical-align: top;\n",
       "    }\n",
       "\n",
       "    .dataframe thead th {\n",
       "        text-align: right;\n",
       "    }\n",
       "</style>\n",
       "<table border=\"1\" class=\"dataframe\">\n",
       "  <thead>\n",
       "    <tr style=\"text-align: right;\">\n",
       "      <th></th>\n",
       "      <th>Open</th>\n",
       "      <th>High</th>\n",
       "      <th>Low</th>\n",
       "      <th>Close</th>\n",
       "      <th>Adj Close</th>\n",
       "      <th>Volume</th>\n",
       "    </tr>\n",
       "    <tr>\n",
       "      <th>Date</th>\n",
       "      <th></th>\n",
       "      <th></th>\n",
       "      <th></th>\n",
       "      <th></th>\n",
       "      <th></th>\n",
       "      <th></th>\n",
       "    </tr>\n",
       "  </thead>\n",
       "  <tbody>\n",
       "    <tr>\n",
       "      <th>1999-01-04</th>\n",
       "      <td>664.270020</td>\n",
       "      <td>672.929993</td>\n",
       "      <td>658.840027</td>\n",
       "      <td>663.159973</td>\n",
       "      <td>663.159973</td>\n",
       "      <td>0</td>\n",
       "    </tr>\n",
       "    <tr>\n",
       "      <th>1999-01-05</th>\n",
       "      <td>663.140015</td>\n",
       "      <td>671.219971</td>\n",
       "      <td>663.030029</td>\n",
       "      <td>670.849976</td>\n",
       "      <td>670.849976</td>\n",
       "      <td>0</td>\n",
       "    </tr>\n",
       "    <tr>\n",
       "      <th>1999-01-06</th>\n",
       "      <td>670.849976</td>\n",
       "      <td>684.940002</td>\n",
       "      <td>670.849976</td>\n",
       "      <td>684.820007</td>\n",
       "      <td>684.820007</td>\n",
       "      <td>0</td>\n",
       "    </tr>\n",
       "    <tr>\n",
       "      <th>1999-01-07</th>\n",
       "      <td>684.820007</td>\n",
       "      <td>684.820007</td>\n",
       "      <td>677.489990</td>\n",
       "      <td>683.919983</td>\n",
       "      <td>683.919983</td>\n",
       "      <td>0</td>\n",
       "    </tr>\n",
       "    <tr>\n",
       "      <th>1999-01-08</th>\n",
       "      <td>683.919983</td>\n",
       "      <td>689.150024</td>\n",
       "      <td>680.340027</td>\n",
       "      <td>687.109985</td>\n",
       "      <td>687.109985</td>\n",
       "      <td>0</td>\n",
       "    </tr>\n",
       "    <tr>\n",
       "      <th>...</th>\n",
       "      <td>...</td>\n",
       "      <td>...</td>\n",
       "      <td>...</td>\n",
       "      <td>...</td>\n",
       "      <td>...</td>\n",
       "      <td>...</td>\n",
       "    </tr>\n",
       "    <tr>\n",
       "      <th>2022-02-17</th>\n",
       "      <td>2608.429932</td>\n",
       "      <td>2608.429932</td>\n",
       "      <td>2547.719971</td>\n",
       "      <td>2550.969971</td>\n",
       "      <td>2550.969971</td>\n",
       "      <td>0</td>\n",
       "    </tr>\n",
       "    <tr>\n",
       "      <th>2022-02-18</th>\n",
       "      <td>2551.060059</td>\n",
       "      <td>2559.639893</td>\n",
       "      <td>2519.179932</td>\n",
       "      <td>2530.709961</td>\n",
       "      <td>2530.709961</td>\n",
       "      <td>0</td>\n",
       "    </tr>\n",
       "    <tr>\n",
       "      <th>2022-02-22</th>\n",
       "      <td>2529.739990</td>\n",
       "      <td>2538.919922</td>\n",
       "      <td>2483.409912</td>\n",
       "      <td>2503.709961</td>\n",
       "      <td>2503.709961</td>\n",
       "      <td>0</td>\n",
       "    </tr>\n",
       "    <tr>\n",
       "      <th>2022-02-23</th>\n",
       "      <td>2506.120117</td>\n",
       "      <td>2524.919922</td>\n",
       "      <td>2454.479980</td>\n",
       "      <td>2456.300049</td>\n",
       "      <td>2456.300049</td>\n",
       "      <td>0</td>\n",
       "    </tr>\n",
       "    <tr>\n",
       "      <th>2022-02-24</th>\n",
       "      <td>2453.201416</td>\n",
       "      <td>2500.659668</td>\n",
       "      <td>2397.374512</td>\n",
       "      <td>2498.947266</td>\n",
       "      <td>2498.947266</td>\n",
       "      <td>0</td>\n",
       "    </tr>\n",
       "  </tbody>\n",
       "</table>\n",
       "<p>5796 rows × 6 columns</p>\n",
       "</div>"
      ],
      "text/plain": [
       "                   Open         High          Low        Close    Adj Close  \\\n",
       "Date                                                                          \n",
       "1999-01-04   664.270020   672.929993   658.840027   663.159973   663.159973   \n",
       "1999-01-05   663.140015   671.219971   663.030029   670.849976   670.849976   \n",
       "1999-01-06   670.849976   684.940002   670.849976   684.820007   684.820007   \n",
       "1999-01-07   684.820007   684.820007   677.489990   683.919983   683.919983   \n",
       "1999-01-08   683.919983   689.150024   680.340027   687.109985   687.109985   \n",
       "...                 ...          ...          ...          ...          ...   \n",
       "2022-02-17  2608.429932  2608.429932  2547.719971  2550.969971  2550.969971   \n",
       "2022-02-18  2551.060059  2559.639893  2519.179932  2530.709961  2530.709961   \n",
       "2022-02-22  2529.739990  2538.919922  2483.409912  2503.709961  2503.709961   \n",
       "2022-02-23  2506.120117  2524.919922  2454.479980  2456.300049  2456.300049   \n",
       "2022-02-24  2453.201416  2500.659668  2397.374512  2498.947266  2498.947266   \n",
       "\n",
       "            Volume  \n",
       "Date                \n",
       "1999-01-04       0  \n",
       "1999-01-05       0  \n",
       "1999-01-06       0  \n",
       "1999-01-07       0  \n",
       "1999-01-08       0  \n",
       "...            ...  \n",
       "2022-02-17       0  \n",
       "2022-02-18       0  \n",
       "2022-02-22       0  \n",
       "2022-02-23       0  \n",
       "2022-02-24       0  \n",
       "\n",
       "[5796 rows x 6 columns]"
      ]
     },
     "execution_count": 3,
     "metadata": {},
     "output_type": "execute_result"
    }
   ],
   "source": [
    "data"
   ]
  },
  {
   "cell_type": "code",
   "execution_count": 4,
   "id": "9fe54fa0",
   "metadata": {},
   "outputs": [
    {
     "name": "stderr",
     "output_type": "stream",
     "text": [
      "E:\\Anaconda\\lib\\site-packages\\ta\\trend.py:769: RuntimeWarning: invalid value encountered in double_scalars\n",
      "  dip[idx] = 100 * (self._dip[idx] / value)\n",
      "E:\\Anaconda\\lib\\site-packages\\ta\\trend.py:774: RuntimeWarning: invalid value encountered in double_scalars\n",
      "  din[idx] = 100 * (self._din[idx] / value)\n"
     ]
    }
   ],
   "source": [
    "data = add_all_ta_features(data, open='Open', high='High', low='Low', close='Close', volume='Volume', fillna=True)\n",
    "data['Return'] = data['Adj Close'].pct_change()\n",
    "data['EMA100'] = ema_indicator(data.Close, window=100)\n",
    "condition = [(data['Close'] > data['EMA100']) & (data['momentum_rsi'] > 50),\n",
    "             (data['Close'] < data['EMA100']) & (data['momentum_rsi'] < 50)]\n",
    "data['state'] = np.select(condition, [1,-1])\n",
    "data = data.drop(columns='EMA100')\n",
    "data = data.loc['2000-01-01':,:]"
   ]
  },
  {
   "cell_type": "code",
   "execution_count": 5,
   "id": "f84c6a06",
   "metadata": {},
   "outputs": [
    {
     "data": {
      "text/plain": [
       " 1    674\n",
       " 0    171\n",
       "-1    134\n",
       "Name: state, dtype: int64"
      ]
     },
     "execution_count": 5,
     "metadata": {},
     "output_type": "execute_result"
    }
   ],
   "source": [
    "data['state'].loc['2018-01-01':'2022-01-01'].value_counts()"
   ]
  },
  {
   "cell_type": "code",
   "execution_count": 6,
   "id": "8e6a3238",
   "metadata": {},
   "outputs": [
    {
     "data": {
      "text/plain": [
       "<AxesSubplot:xlabel='Date', ylabel='Close'>"
      ]
     },
     "execution_count": 6,
     "metadata": {},
     "output_type": "execute_result"
    },
    {
     "data": {
      "image/png": "[encoded data removed]",
      "text/plain": [
       "<Figure size 1080x576 with 1 Axes>"
      ]
     },
     "metadata": {},
     "output_type": "display_data"
    }
   ],
   "source": [
    "sns.set(rc = {'figure.figsize':(15,8)})\n",
    "sns.scatterplot(data=data.loc['2000-01-01':'2022-01-01',:], x='Date', y='Close', hue='state',style='state',palette='flare')"
   ]
  },
  {
   "cell_type": "code",
   "execution_count": 7,
   "id": "5c691085",
   "metadata": {},
   "outputs": [],
   "source": [
    "X_train, y_train = data.loc['2000-01-01':'2018-01-01',:].iloc[:,:-1], data.loc['2000-01-01':'2018-01-01',:].iloc[:,-1]\n",
    "X_test, y_test = data.loc['2018-01-01':'2022-01-01',:].iloc[:,:-1], data.loc['2018-01-01':'2022-01-01',:].iloc[:,-1]"
   ]
  },
  {
   "cell_type": "code",
   "execution_count": 8,
   "id": "68ee2211",
   "metadata": {},
   "outputs": [],
   "source": [
    "from sklearn.ensemble import RandomForestClassifier\n",
    "model = RandomForestClassifier().fit(X_train, y_train)"
   ]
  },
  {
   "cell_type": "code",
   "execution_count": 9,
   "id": "9f93a0cc",
   "metadata": {},
   "outputs": [
    {
     "data": {
      "text/plain": [
       "0.9417773237997957"
      ]
     },
     "execution_count": 9,
     "metadata": {},
     "output_type": "execute_result"
    }
   ],
   "source": [
    "model.score(X_test,y_test)"
   ]
  },
  {
   "cell_type": "code",
   "execution_count": 10,
   "id": "cd387861",
   "metadata": {},
   "outputs": [
    {
     "data": {
      "text/plain": [
       "0.8466257668711656"
      ]
     },
     "execution_count": 10,
     "metadata": {},
     "output_type": "execute_result"
    }
   ],
   "source": [
    "model.score(X_test[:-1],y_test[1:])"
   ]
  },
  {
   "cell_type": "code",
   "execution_count": 11,
   "id": "ac103c59",
   "metadata": {},
   "outputs": [],
   "source": [
    "feature = pd.DataFrame(index=model.feature_names_in_, data=model.feature_importances_, columns=['feature'])\n",
    "feature = feature.sort_values(by='feature', ascending=False)"
   ]
  },
  {
   "cell_type": "code",
   "execution_count": 12,
   "id": "9f22dccc",
   "metadata": {},
   "outputs": [
    {
     "data": {
      "text/html": [
       "<div>\n",
       "<style scoped>\n",
       "    .dataframe tbody tr th:only-of-type {\n",
       "        vertical-align: middle;\n",
       "    }\n",
       "\n",
       "    .dataframe tbody tr th {\n",
       "        vertical-align: top;\n",
       "    }\n",
       "\n",
       "    .dataframe thead th {\n",
       "        text-align: right;\n",
       "    }\n",
       "</style>\n",
       "<table border=\"1\" class=\"dataframe\">\n",
       "  <thead>\n",
       "    <tr style=\"text-align: right;\">\n",
       "      <th></th>\n",
       "      <th>feature</th>\n",
       "    </tr>\n",
       "  </thead>\n",
       "  <tbody>\n",
       "    <tr>\n",
       "      <th>momentum_rsi</th>\n",
       "      <td>0.132563</td>\n",
       "    </tr>\n",
       "    <tr>\n",
       "      <th>momentum_ppo</th>\n",
       "      <td>0.055918</td>\n",
       "    </tr>\n",
       "    <tr>\n",
       "      <th>momentum_tsi</th>\n",
       "      <td>0.050588</td>\n",
       "    </tr>\n",
       "    <tr>\n",
       "      <th>volatility_bbp</th>\n",
       "      <td>0.049083</td>\n",
       "    </tr>\n",
       "    <tr>\n",
       "      <th>trend_cci</th>\n",
       "      <td>0.046937</td>\n",
       "    </tr>\n",
       "  </tbody>\n",
       "</table>\n",
       "</div>"
      ],
      "text/plain": [
       "                 feature\n",
       "momentum_rsi    0.132563\n",
       "momentum_ppo    0.055918\n",
       "momentum_tsi    0.050588\n",
       "volatility_bbp  0.049083\n",
       "trend_cci       0.046937"
      ]
     },
     "execution_count": 12,
     "metadata": {},
     "output_type": "execute_result"
    }
   ],
   "source": [
    "feature.head(5)"
   ]
  },
  {
   "cell_type": "code",
   "execution_count": 13,
   "id": "d40e4845",
   "metadata": {},
   "outputs": [],
   "source": [
    "strategy = data.loc['2018-01-01':'2022-01-01',['Adj Close']]\n",
    "strategy.insert(len(strategy.columns), 'State', '')\n",
    "strategy.loc['2018-01-01':'2022-01-01',['State']] = model.predict(X_test)"
   ]
  },
  {
   "cell_type": "code",
   "execution_count": 14,
   "id": "982c7da4",
   "metadata": {},
   "outputs": [],
   "source": [
    "strategy.insert(len(strategy.columns), 'Position Change', '')\n",
    "strategy['Position Change'] = strategy['State'] - strategy['State'].shift(1)\n",
    "strategy.iloc[0,-1] = strategy.iloc[0,1]\n",
    "strategy.iloc[-1,-1] = -strategy.iloc[0,1]"
   ]
  },
  {
   "cell_type": "code",
   "execution_count": 15,
   "id": "1c79adb3",
   "metadata": {},
   "outputs": [],
   "source": [
    "strategy.insert(len(strategy.columns), 'Money', 0)\n",
    "strategy['Money'] = -strategy['Adj Close'] * strategy['Position Change']"
   ]
  },
  {
   "cell_type": "code",
   "execution_count": 16,
   "id": "af3ae62f",
   "metadata": {},
   "outputs": [
    {
     "data": {
      "text/plain": [
       "431.5391845703125"
      ]
     },
     "execution_count": 16,
     "metadata": {},
     "output_type": "execute_result"
    }
   ],
   "source": [
    "sum(strategy['Money'])"
   ]
  },
  {
   "cell_type": "code",
   "execution_count": 17,
   "id": "725f6445",
   "metadata": {},
   "outputs": [
    {
     "data": {
      "text/plain": [
       " 0.0    846\n",
       "-1.0     65\n",
       " 1.0     55\n",
       " 2.0      9\n",
       "-2.0      4\n",
       "Name: Position Change, dtype: int64"
      ]
     },
     "execution_count": 17,
     "metadata": {},
     "output_type": "execute_result"
    }
   ],
   "source": [
    "strategy['Position Change'].value_counts()"
   ]
  },
  {
   "cell_type": "code",
   "execution_count": 18,
   "id": "a2de4da8",
   "metadata": {},
   "outputs": [
    {
     "data": {
      "text/html": [
       "<div>\n",
       "<style scoped>\n",
       "    .dataframe tbody tr th:only-of-type {\n",
       "        vertical-align: middle;\n",
       "    }\n",
       "\n",
       "    .dataframe tbody tr th {\n",
       "        vertical-align: top;\n",
       "    }\n",
       "\n",
       "    .dataframe thead th {\n",
       "        text-align: right;\n",
       "    }\n",
       "</style>\n",
       "<table border=\"1\" class=\"dataframe\">\n",
       "  <thead>\n",
       "    <tr style=\"text-align: right;\">\n",
       "      <th></th>\n",
       "      <th>Adj Close</th>\n",
       "      <th>State</th>\n",
       "      <th>Position Change</th>\n",
       "      <th>Money</th>\n",
       "    </tr>\n",
       "    <tr>\n",
       "      <th>Date</th>\n",
       "      <th></th>\n",
       "      <th></th>\n",
       "      <th></th>\n",
       "      <th></th>\n",
       "    </tr>\n",
       "  </thead>\n",
       "  <tbody>\n",
       "    <tr>\n",
       "      <th>2018-01-02</th>\n",
       "      <td>1595.869995</td>\n",
       "      <td>1</td>\n",
       "      <td>1.0</td>\n",
       "      <td>-1595.869995</td>\n",
       "    </tr>\n",
       "    <tr>\n",
       "      <th>2018-01-03</th>\n",
       "      <td>1605.189941</td>\n",
       "      <td>1</td>\n",
       "      <td>0.0</td>\n",
       "      <td>-0.000000</td>\n",
       "    </tr>\n",
       "    <tr>\n",
       "      <th>2018-01-04</th>\n",
       "      <td>1611.020020</td>\n",
       "      <td>1</td>\n",
       "      <td>0.0</td>\n",
       "      <td>-0.000000</td>\n",
       "    </tr>\n",
       "    <tr>\n",
       "      <th>2018-01-05</th>\n",
       "      <td>1621.369995</td>\n",
       "      <td>1</td>\n",
       "      <td>0.0</td>\n",
       "      <td>-0.000000</td>\n",
       "    </tr>\n",
       "    <tr>\n",
       "      <th>2018-01-08</th>\n",
       "      <td>1624.349976</td>\n",
       "      <td>1</td>\n",
       "      <td>0.0</td>\n",
       "      <td>-0.000000</td>\n",
       "    </tr>\n",
       "    <tr>\n",
       "      <th>...</th>\n",
       "      <td>...</td>\n",
       "      <td>...</td>\n",
       "      <td>...</td>\n",
       "      <td>...</td>\n",
       "    </tr>\n",
       "    <tr>\n",
       "      <th>2021-12-27</th>\n",
       "      <td>2803.739990</td>\n",
       "      <td>1</td>\n",
       "      <td>0.0</td>\n",
       "      <td>-0.000000</td>\n",
       "    </tr>\n",
       "    <tr>\n",
       "      <th>2021-12-28</th>\n",
       "      <td>2798.350098</td>\n",
       "      <td>1</td>\n",
       "      <td>0.0</td>\n",
       "      <td>-0.000000</td>\n",
       "    </tr>\n",
       "    <tr>\n",
       "      <th>2021-12-29</th>\n",
       "      <td>2801.870117</td>\n",
       "      <td>1</td>\n",
       "      <td>0.0</td>\n",
       "      <td>-0.000000</td>\n",
       "    </tr>\n",
       "    <tr>\n",
       "      <th>2021-12-30</th>\n",
       "      <td>2795.909912</td>\n",
       "      <td>1</td>\n",
       "      <td>0.0</td>\n",
       "      <td>-0.000000</td>\n",
       "    </tr>\n",
       "    <tr>\n",
       "      <th>2021-12-31</th>\n",
       "      <td>2788.139893</td>\n",
       "      <td>1</td>\n",
       "      <td>-1.0</td>\n",
       "      <td>2788.139893</td>\n",
       "    </tr>\n",
       "  </tbody>\n",
       "</table>\n",
       "<p>979 rows × 4 columns</p>\n",
       "</div>"
      ],
      "text/plain": [
       "              Adj Close  State  Position Change        Money\n",
       "Date                                                        \n",
       "2018-01-02  1595.869995      1              1.0 -1595.869995\n",
       "2018-01-03  1605.189941      1              0.0    -0.000000\n",
       "2018-01-04  1611.020020      1              0.0    -0.000000\n",
       "2018-01-05  1621.369995      1              0.0    -0.000000\n",
       "2018-01-08  1624.349976      1              0.0    -0.000000\n",
       "...                 ...    ...              ...          ...\n",
       "2021-12-27  2803.739990      1              0.0    -0.000000\n",
       "2021-12-28  2798.350098      1              0.0    -0.000000\n",
       "2021-12-29  2801.870117      1              0.0    -0.000000\n",
       "2021-12-30  2795.909912      1              0.0    -0.000000\n",
       "2021-12-31  2788.139893      1             -1.0  2788.139893\n",
       "\n",
       "[979 rows x 4 columns]"
      ]
     },
     "execution_count": 18,
     "metadata": {},
     "output_type": "execute_result"
    }
   ],
   "source": [
    "strategy"
   ]
  },
  {
   "cell_type": "code",
   "execution_count": 19,
   "id": "16e9a3ec",
   "metadata": {},
   "outputs": [
    {
     "data": {
      "text/plain": [
       "<AxesSubplot:xlabel='Date', ylabel='Adj Close'>"
      ]
     },
     "execution_count": 19,
     "metadata": {},
     "output_type": "execute_result"
    },
    {
     "data": {
      "image/png": "[encoded data removed]",
      "text/plain": [
       "<Figure size 1080x576 with 1 Axes>"
      ]
     },
     "metadata": {},
     "output_type": "display_data"
    }
   ],
   "source": [
    "sns.scatterplot(data=strategy, x='Date', y='Adj Close', hue='State',style='State',palette='flare')"
   ]
  },
  {
   "cell_type": "code",
   "execution_count": 20,
   "id": "b60f0ec3",
   "metadata": {},
   "outputs": [],
   "source": [
    "strategy2 = data.loc['2018-01-01':'2022-01-01',['Adj Close']]\n",
    "strategy2.insert(len(strategy2.columns), 'State', '')\n",
    "strategy2.loc['2018-01-01':'2022-01-01',['State']] = model.predict(X_test)"
   ]
  },
  {
   "cell_type": "code",
   "execution_count": 21,
   "id": "9ed03673",
   "metadata": {},
   "outputs": [],
   "source": [
    "for i in range(5):\n",
    "    strategy2[i]=strategy2['State'].shift(i)"
   ]
  },
  {
   "cell_type": "code",
   "execution_count": 22,
   "id": "0c7f0089",
   "metadata": {},
   "outputs": [],
   "source": [
    "strategy2.insert(len(strategy2.columns), 'New State', '')\n",
    "for i in range(len(strategy2)):\n",
    "    strategy2.iloc[i,-1] = int(strategy2.iloc[i,1:-1].mode().max())"
   ]
  },
  {
   "cell_type": "code",
   "execution_count": 24,
   "id": "a8c73001",
   "metadata": {},
   "outputs": [],
   "source": [
    "strategy2.insert(len(strategy2.columns), 'Position Change', '')\n",
    "strategy2['Position Change'] = strategy2['New State'] - strategy2['New State'].shift(1)\n",
    "strategy2.iloc[0,-1] = strategy2.iloc[0,1]\n",
    "strategy2.iloc[-1,-1] = -strategy2.iloc[-1,1]"
   ]
  },
  {
   "cell_type": "code",
   "execution_count": 25,
   "id": "e90b41a5",
   "metadata": {},
   "outputs": [],
   "source": [
    "strategy2.insert(len(strategy2.columns), 'Money', 0)\n",
    "strategy2['Money'] = -strategy2['Adj Close'] * strategy2['Position Change']"
   ]
  },
  {
   "cell_type": "code",
   "execution_count": 26,
   "id": "947cb759",
   "metadata": {},
   "outputs": [
    {
     "data": {
      "text/plain": [
       "611.64013671875"
      ]
     },
     "execution_count": 26,
     "metadata": {},
     "output_type": "execute_result"
    }
   ],
   "source": [
    "sum(strategy2['Money'])"
   ]
  },
  {
   "cell_type": "code",
   "execution_count": 27,
   "id": "054b64da",
   "metadata": {},
   "outputs": [],
   "source": [
    "def StateSmooth(data, n):\n",
    "    X_train, y_train = data.loc['2000-01-01':'2018-01-01',:].iloc[:,:-1], data.loc['2000-01-01':'2018-01-01',:].iloc[:,-1]\n",
    "    X_test, y_test = data.loc['2018-01-01':'2022-01-01',:].iloc[:,:-1], data.loc['2018-01-01':'2022-01-01',:].iloc[:,-1]\n",
    "    model = RandomForestClassifier().fit(X_train, y_train)\n",
    "    strategy = data.loc['2018-01-01':'2022-01-01',['Open','High','Low','Close','Adj Close']]\n",
    "    strategy.insert(len(strategy.columns), 'State', '')\n",
    "    strategy.loc['2018-01-01':'2022-01-01',['State']] = model.predict(X_test)\n",
    "    for i in range(n):\n",
    "        strategy[i]=strategy['State'].shift(i)\n",
    "    strategy.insert(len(strategy.columns), 'New State', '')\n",
    "    for i in range(len(strategy)):\n",
    "        strategy.iloc[i,-1] = int(strategy.iloc[i,5:5+n+1].mode().max())\n",
    "    strategy.insert(len(strategy.columns), 'Position Change', '')\n",
    "    strategy['Position Change'] = strategy['New State'] - strategy['New State'].shift(1)\n",
    "    strategy.iloc[0,-1] = strategy.iloc[0,5]\n",
    "    strategy.iloc[-1,-1] = -strategy.iloc[-1,5]\n",
    "    strategy.insert(len(strategy.columns), 'Money', 0)\n",
    "    strategy['Money'] = -strategy['Adj Close'] * strategy['Position Change']\n",
    "    return strategy"
   ]
  },
  {
   "cell_type": "code",
   "execution_count": 28,
   "id": "3b3a1d51",
   "metadata": {},
   "outputs": [],
   "source": [
    "strategy1 = StateSmooth(data, 3)\n",
    "strategy2 = StateSmooth(data, 5)\n",
    "strategy3 = StateSmooth(data, 10)"
   ]
  },
  {
   "cell_type": "code",
   "execution_count": 29,
   "id": "dacfd441",
   "metadata": {},
   "outputs": [],
   "source": [
    "strategy1.to_csv('C:/Users/lenovo/Downloads/strategy1.csv',columns=['Open', 'High', 'Low', 'Close','New State'])\n",
    "strategy2.to_csv('C:/Users/lenovo/Downloads/strategy2.csv',columns=['Open', 'High', 'Low', 'Close','New State'])\n",
    "strategy3.to_csv('C:/Users/lenovo/Downloads/strategy3.csv',columns=['Open', 'High', 'Low', 'Close','New State'])"
   ]
  },
  {
   "cell_type": "code",
   "execution_count": 30,
   "id": "574dbce1",
   "metadata": {},
   "outputs": [
    {
     "data": {
      "text/plain": [
       "311.779541015625"
      ]
     },
     "execution_count": 30,
     "metadata": {},
     "output_type": "execute_result"
    }
   ],
   "source": [
    "sum(strategy1['Money'])"
   ]
  },
  {
   "cell_type": "code",
   "execution_count": 31,
   "id": "ae4bcd9e",
   "metadata": {},
   "outputs": [
    {
     "data": {
      "text/plain": [
       "490.720458984375"
      ]
     },
     "execution_count": 31,
     "metadata": {},
     "output_type": "execute_result"
    }
   ],
   "source": [
    "sum(strategy2['Money'])"
   ]
  },
  {
   "cell_type": "code",
   "execution_count": 32,
   "id": "32b6178d",
   "metadata": {},
   "outputs": [
    {
     "data": {
      "text/plain": [
       "482.989990234375"
      ]
     },
     "execution_count": 32,
     "metadata": {},
     "output_type": "execute_result"
    }
   ],
   "source": [
    "sum(strategy3['Money'])"
   ]
  },
  {
   "cell_type": "code",
   "execution_count": null,
   "id": "bad0e699",
   "metadata": {},
   "outputs": [],
   "source": []
  },
  {
   "cell_type": "code",
   "execution_count": null,
   "id": "84163863",
   "metadata": {},
   "outputs": [],
   "source": []
  },
  {
   "cell_type": "code",
   "execution_count": null,
   "id": "0e76e1e8",
   "metadata": {},
   "outputs": [],
   "source": []
  },
  {
   "cell_type": "code",
   "execution_count": 33,
   "id": "a7a4ae13",
   "metadata": {},
   "outputs": [],
   "source": [
    "data1 = pd.read_csv('d1.csv',index_col=0,parse_dates=True)\n",
    "data2 = pd.read_csv('d2.csv',index_col=0,parse_dates=True)\n",
    "data3 = pd.read_csv('d3.csv',index_col=0,parse_dates=True)\n",
    "data4 = pd.read_csv('d4.csv',index_col=0,parse_dates=True)\n",
    "data5 = pd.read_csv('d5.csv',index_col=0,parse_dates=True)"
   ]
  },
  {
   "cell_type": "code",
   "execution_count": 91,
   "id": "315755cc",
   "metadata": {},
   "outputs": [],
   "source": [
    "hmm1 = pd.read_csv('data_hmm_1_2003.csv',index_col=0,parse_dates=True)\n",
    "hmm7 = pd.read_csv('data_hmm_7_revised_2003.csv',index_col=0,parse_dates=True)\n",
    "gmm1 = pd.read_csv('data_gmm_1_2003.csv',index_col=0,parse_dates=True)"
   ]
  },
  {
   "cell_type": "code",
   "execution_count": 93,
   "id": "34792698",
   "metadata": {},
   "outputs": [],
   "source": [
    "data6 = data1.copy()\n",
    "data7 = data1.copy()\n",
    "data8 = data1.copy()"
   ]
  },
  {
   "cell_type": "code",
   "execution_count": 94,
   "id": "0fe41cc3",
   "metadata": {},
   "outputs": [],
   "source": [
    "data6['state'] = hmm1['State']\n",
    "data7['state'] = hmm7['State']\n",
    "data8['state'] = gmm1['State']"
   ]
  },
  {
   "cell_type": "code",
   "execution_count": 37,
   "id": "8ff64fea",
   "metadata": {},
   "outputs": [],
   "source": [
    "data1.insert(len(data1.columns), 'predict', '')\n",
    "data2.insert(len(data2.columns), 'predict', '')\n",
    "data3.insert(len(data3.columns), 'predict', '')\n",
    "data4.insert(len(data4.columns), 'predict', '')\n",
    "data5.insert(len(data5.columns), 'predict', '')"
   ]
  },
  {
   "cell_type": "code",
   "execution_count": 39,
   "id": "de220f95",
   "metadata": {},
   "outputs": [
    {
     "data": {
      "text/plain": [
       " 0    966\n",
       "-1      6\n",
       " 1      6\n",
       "Name: state, dtype: int64"
      ]
     },
     "execution_count": 39,
     "metadata": {},
     "output_type": "execute_result"
    }
   ],
   "source": [
    "data1['state'].loc['2018-01-01':'2022-01-01'].value_counts()"
   ]
  },
  {
   "cell_type": "code",
   "execution_count": 40,
   "id": "c813bc0e",
   "metadata": {},
   "outputs": [
    {
     "data": {
      "text/plain": [
       " 1    673\n",
       " 0    171\n",
       "-1    134\n",
       "Name: state, dtype: int64"
      ]
     },
     "execution_count": 40,
     "metadata": {},
     "output_type": "execute_result"
    }
   ],
   "source": [
    "data2['state'].loc['2018-01-01':'2022-01-01'].value_counts()"
   ]
  },
  {
   "cell_type": "code",
   "execution_count": 41,
   "id": "3a231379",
   "metadata": {},
   "outputs": [
    {
     "data": {
      "text/plain": [
       " 0    937\n",
       "-1     24\n",
       " 1     17\n",
       "Name: state, dtype: int64"
      ]
     },
     "execution_count": 41,
     "metadata": {},
     "output_type": "execute_result"
    }
   ],
   "source": [
    "data3['state'].loc['2018-01-01':'2022-01-01'].value_counts()"
   ]
  },
  {
   "cell_type": "code",
   "execution_count": 42,
   "id": "7c4325aa",
   "metadata": {},
   "outputs": [
    {
     "data": {
      "text/plain": [
       " 0    937\n",
       "-1     24\n",
       " 1     17\n",
       "Name: state, dtype: int64"
      ]
     },
     "execution_count": 42,
     "metadata": {},
     "output_type": "execute_result"
    }
   ],
   "source": [
    "data4['state'].loc['2018-01-01':'2022-01-01'].value_counts()"
   ]
  },
  {
   "cell_type": "code",
   "execution_count": 43,
   "id": "4693fba4",
   "metadata": {},
   "outputs": [
    {
     "data": {
      "text/plain": [
       " 0    871\n",
       "-1     54\n",
       " 1     53\n",
       "Name: state, dtype: int64"
      ]
     },
     "execution_count": 43,
     "metadata": {},
     "output_type": "execute_result"
    }
   ],
   "source": [
    "data5['state'].loc['2018-01-01':'2022-01-01'].value_counts()"
   ]
  },
  {
   "cell_type": "code",
   "execution_count": 95,
   "id": "08c6268a",
   "metadata": {},
   "outputs": [
    {
     "data": {
      "text/plain": [
       " 1.0    831\n",
       "-1.0     98\n",
       " 0.0     49\n",
       "Name: state, dtype: int64"
      ]
     },
     "execution_count": 95,
     "metadata": {},
     "output_type": "execute_result"
    }
   ],
   "source": [
    "data6['state'].loc['2018-01-01':'2022-01-01'].value_counts()"
   ]
  },
  {
   "cell_type": "code",
   "execution_count": 96,
   "id": "c307ee47",
   "metadata": {},
   "outputs": [
    {
     "data": {
      "text/plain": [
       " 1.0    734\n",
       "-1.0    244\n",
       "Name: state, dtype: int64"
      ]
     },
     "execution_count": 96,
     "metadata": {},
     "output_type": "execute_result"
    }
   ],
   "source": [
    "data7['state'].loc['2018-01-01':'2022-01-01'].value_counts()"
   ]
  },
  {
   "cell_type": "code",
   "execution_count": 97,
   "id": "2ba0e0b9",
   "metadata": {},
   "outputs": [
    {
     "data": {
      "text/plain": [
       " 1.0    867\n",
       "-1.0     73\n",
       " 0.0     38\n",
       "Name: state, dtype: int64"
      ]
     },
     "execution_count": 97,
     "metadata": {},
     "output_type": "execute_result"
    }
   ],
   "source": [
    "data8['state'].loc['2018-01-01':'2022-01-01'].value_counts()"
   ]
  },
  {
   "cell_type": "code",
   "execution_count": 47,
   "id": "39b8f4b2",
   "metadata": {},
   "outputs": [],
   "source": [
    "def randomforest(data):\n",
    "    X_train, y_train = data.loc['2015-01-01':'2018-01-01',:].iloc[:,:-2], data.loc['2015-01-01':'2018-01-01',:].iloc[:,-2]\n",
    "    X_test, y_test = data.loc['2018-01-01':'2022-01-01',:].iloc[:,:-2], data.loc['2018-01-01':'2022-01-01',:].iloc[:,-2]\n",
    "    model = RandomForestClassifier().fit(X_train, y_train)\n",
    "    y_pred = model.predict(X_test)\n",
    "    return model.score(X_test, y_test), pd.DataFrame(y_pred)"
   ]
  },
  {
   "cell_type": "code",
   "execution_count": 48,
   "id": "a1bdba13",
   "metadata": {},
   "outputs": [],
   "source": [
    "\n",
    "def plot_cm(y_true, y_pred):\n",
    "    cm = confusion_matrix(y_true, y_pred)\n",
    "    fig, ax = plt.subplots(figsize=(10, 10)) \n",
    "    ax = sns.heatmap(cm, annot=True, fmt=\"d\", cmap=sns.diverging_palette(220, 20, n=7), ax=ax)\n",
    "\n",
    "    plt.ylabel('Actual')\n",
    "    plt.xlabel('Predicted')\n",
    "    ax.set_xticklabels(['Bear','Static','Bull'])\n",
    "    ax.set_yticklabels(['Bear','Static','Bull'])\n",
    "    b, t = plt.ylim() # discover the values for bottom and top\n",
    "    b += 0.5 # Add 0.5 to the bottom\n",
    "    t -= 0.5 # Subtract 0.5 from the top\n",
    "    plt.ylim(b, t) # update the ylim(bottom, top) values\n",
    "    plt.show() # ta-da!"
   ]
  },
  {
   "cell_type": "code",
   "execution_count": 49,
   "id": "b8aabce9",
   "metadata": {},
   "outputs": [
    {
     "name": "stdout",
     "output_type": "stream",
     "text": [
      "0.9877300613496932\n",
      "0    978\n",
      "dtype: int64\n"
     ]
    }
   ],
   "source": [
    "score1, y_pred1 = randomforest(data1)\n",
    "print(score1)\n",
    "print(y_pred1.value_counts())\n",
    "data1.loc['2018-01-01':'2022-01-01',['predict']] = y_pred1.to_numpy().reshape(-1,1)"
   ]
  },
  {
   "cell_type": "code",
   "execution_count": 50,
   "id": "d3832651",
   "metadata": {},
   "outputs": [
    {
     "name": "stdout",
     "output_type": "stream",
     "text": [
      "0.8957055214723927\n",
      " 1    722\n",
      " 0    154\n",
      "-1    102\n",
      "dtype: int64\n"
     ]
    }
   ],
   "source": [
    "score2, y_pred2 = randomforest(data2)\n",
    "print(score2)\n",
    "print(y_pred2.value_counts())\n",
    "data2.loc['2018-01-01':'2022-01-01',['predict']] = y_pred2.to_numpy().reshape(-1,1)"
   ]
  },
  {
   "cell_type": "code",
   "execution_count": 51,
   "id": "e849dffe",
   "metadata": {},
   "outputs": [
    {
     "name": "stdout",
     "output_type": "stream",
     "text": [
      "0.9815950920245399\n",
      " 0    937\n",
      "-1     29\n",
      " 1     12\n",
      "dtype: int64\n"
     ]
    }
   ],
   "source": [
    "score3, y_pred3 = randomforest(data3)\n",
    "print(score3)\n",
    "print(y_pred3.value_counts())\n",
    "data3.loc['2018-01-01':'2022-01-01',['predict']] = y_pred3.to_numpy().reshape(-1,1)"
   ]
  },
  {
   "cell_type": "code",
   "execution_count": 52,
   "id": "0bcaf186",
   "metadata": {},
   "outputs": [
    {
     "name": "stdout",
     "output_type": "stream",
     "text": [
      "0.9867075664621677\n",
      " 0    940\n",
      "-1     25\n",
      " 1     13\n",
      "dtype: int64\n"
     ]
    }
   ],
   "source": [
    "score4, y_pred4 = randomforest(data4)\n",
    "print(score4)\n",
    "print(y_pred4.value_counts())\n",
    "data4.loc['2018-01-01':'2022-01-01',['predict']] = y_pred4.to_numpy().reshape(-1,1)"
   ]
  },
  {
   "cell_type": "code",
   "execution_count": 53,
   "id": "4b384779",
   "metadata": {},
   "outputs": [
    {
     "name": "stdout",
     "output_type": "stream",
     "text": [
      "0.9519427402862985\n",
      " 0    858\n",
      "-1     67\n",
      " 1     53\n",
      "dtype: int64\n"
     ]
    }
   ],
   "source": [
    "score5, y_pred5 = randomforest(data5)\n",
    "print(score5)\n",
    "print(y_pred5.value_counts())\n",
    "data5.loc['2018-01-01':'2022-01-01',['predict']] = y_pred5.to_numpy().reshape(-1,1)"
   ]
  },
  {
   "cell_type": "code",
   "execution_count": 98,
   "id": "9414d17e",
   "metadata": {},
   "outputs": [
    {
     "name": "stdout",
     "output_type": "stream",
     "text": [
      "0.8916155419222904\n",
      " 1.0    866\n",
      "-1.0     62\n",
      " 0.0     50\n",
      "dtype: int64\n"
     ]
    }
   ],
   "source": [
    "score6, y_pred6 = randomforest(data6)\n",
    "print(score6)\n",
    "print(y_pred6.value_counts())\n",
    "data6.loc['2018-01-01':'2022-01-01',['predict']] = y_pred6.to_numpy().reshape(-1,1)"
   ]
  },
  {
   "cell_type": "code",
   "execution_count": 99,
   "id": "bf2ec706",
   "metadata": {},
   "outputs": [
    {
     "name": "stdout",
     "output_type": "stream",
     "text": [
      "0.9611451942740287\n",
      " 1.0    756\n",
      "-1.0    222\n",
      "dtype: int64\n"
     ]
    }
   ],
   "source": [
    "score7, y_pred7 = randomforest(data7)\n",
    "print(score7)\n",
    "print(y_pred7.value_counts())\n",
    "data7.loc['2018-01-01':'2022-01-01',['predict']] = y_pred7.to_numpy().reshape(-1,1)"
   ]
  },
  {
   "cell_type": "code",
   "execution_count": 100,
   "id": "a7e5b78e",
   "metadata": {},
   "outputs": [
    {
     "name": "stdout",
     "output_type": "stream",
     "text": [
      "0.9703476482617587\n",
      " 1.0    838\n",
      "-1.0     84\n",
      " 0.0     56\n",
      "dtype: int64\n"
     ]
    }
   ],
   "source": [
    "score8, y_pred8 = randomforest(data8)\n",
    "print(score8)\n",
    "print(y_pred8.value_counts())\n",
    "data8.loc['2018-01-01':'2022-01-01',['predict']] = y_pred8.to_numpy().reshape(-1,1)"
   ]
  },
  {
   "cell_type": "code",
   "execution_count": 57,
   "id": "bf39c4a2",
   "metadata": {},
   "outputs": [],
   "source": [
    "data1.to_csv('C:/Users/lenovo/Downloads/data1.csv',columns=['Open', 'High', 'Low', 'Close','predict'])\n",
    "data2.to_csv('C:/Users/lenovo/Downloads/data2.csv',columns=['Open', 'High', 'Low', 'Close','predict'])\n",
    "data3.to_csv('C:/Users/lenovo/Downloads/data3.csv',columns=['Open', 'High', 'Low', 'Close','predict'])\n",
    "data4.to_csv('C:/Users/lenovo/Downloads/data4.csv',columns=['Open', 'High', 'Low', 'Close','predict'])\n",
    "data5.to_csv('C:/Users/lenovo/Downloads/data5.csv',columns=['Open', 'High', 'Low', 'Close','predict'])"
   ]
  },
  {
   "cell_type": "code",
   "execution_count": 101,
   "id": "faf5b69a",
   "metadata": {},
   "outputs": [],
   "source": [
    "data6.to_csv('C:/Users/lenovo/Downloads/data6.csv',columns=['Open', 'High', 'Low', 'Close','predict'])\n",
    "data7.to_csv('C:/Users/lenovo/Downloads/data7.csv',columns=['Open', 'High', 'Low', 'Close','predict'])\n",
    "data8.to_csv('C:/Users/lenovo/Downloads/data8.csv',columns=['Open', 'High', 'Low', 'Close','predict'])"
   ]
  },
  {
   "cell_type": "code",
   "execution_count": null,
   "id": "04c8f689",
   "metadata": {},
   "outputs": [],
   "source": []
  },
  {
   "cell_type": "code",
   "execution_count": null,
   "id": "21054535",
   "metadata": {},
   "outputs": [],
   "source": []
  },
  {
   "cell_type": "code",
   "execution_count": 59,
   "id": "e418f00f",
   "metadata": {},
   "outputs": [],
   "source": [
    "from hmmlearn import hmm"
   ]
  },
  {
   "cell_type": "code",
   "execution_count": 60,
   "id": "4b36aaa0",
   "metadata": {},
   "outputs": [],
   "source": [
    "X_train_hmm, X_test_hmm = data['Return'].loc['2000-01-01':'2017-12-31'], data['Return'].loc['2018-01-01':'2021-12-31']"
   ]
  },
  {
   "cell_type": "code",
   "execution_count": 61,
   "id": "02665466",
   "metadata": {},
   "outputs": [],
   "source": [
    "model_hmm = hmm.GaussianHMM(n_components=3).fit(X_train_hmm.to_numpy().reshape(-1,1))"
   ]
  },
  {
   "cell_type": "code",
   "execution_count": 62,
   "id": "20d0e1ec",
   "metadata": {},
   "outputs": [],
   "source": [
    "data_hmm = data.copy()\n",
    "data_hmm.insert(len(data.columns), 'predict', '')"
   ]
  },
  {
   "cell_type": "code",
   "execution_count": 63,
   "id": "b240f8e5",
   "metadata": {},
   "outputs": [],
   "source": [
    "data_hmm.loc['2000-01-01':'2017-12-31',['predict']] = model_hmm.predict(X_train_hmm.to_numpy().reshape(-1,1))\n",
    "data_hmm.loc['2018-01-01':'2021-12-31',['predict']] = model_hmm.predict(X_test_hmm.to_numpy().reshape(-1,1))"
   ]
  },
  {
   "cell_type": "code",
   "execution_count": 64,
   "id": "953bb2bc",
   "metadata": {},
   "outputs": [],
   "source": [
    "data_hmm['predict'].loc['2018-01-01':'2021-12-31'].value_counts()\n",
    "data_hmm.loc[data_hmm['predict']==1, 'predict']=-1\n",
    "data_hmm.loc[data_hmm['predict']==2, 'predict']=1"
   ]
  },
  {
   "cell_type": "code",
   "execution_count": 65,
   "id": "a482129d",
   "metadata": {},
   "outputs": [
    {
     "data": {
      "text/plain": [
       "<AxesSubplot:xlabel='Date', ylabel='Adj Close'>"
      ]
     },
     "execution_count": 65,
     "metadata": {},
     "output_type": "execute_result"
    },
    {
     "data": {
      "image/png": "[encoded data removed]",
      "text/plain": [
       "<Figure size 1080x576 with 1 Axes>"
      ]
     },
     "metadata": {},
     "output_type": "display_data"
    }
   ],
   "source": [
    "sns.scatterplot(data=data_hmm.loc['2018-01-01':'2021-12-31',:], x='Date', y='Adj Close', hue='predict', style='predict', palette='flare')"
   ]
  },
  {
   "cell_type": "code",
   "execution_count": 66,
   "id": "e2c7dc4d",
   "metadata": {},
   "outputs": [
    {
     "data": {
      "text/plain": [
       "-1    773\n",
       " 1    153\n",
       " 0     53\n",
       "Name: predict, dtype: int64"
      ]
     },
     "execution_count": 66,
     "metadata": {},
     "output_type": "execute_result"
    }
   ],
   "source": [
    "data_hmm['predict'].loc['2018-01-01':'2021-12-31'].value_counts()"
   ]
  },
  {
   "cell_type": "code",
   "execution_count": null,
   "id": "c1325016",
   "metadata": {},
   "outputs": [],
   "source": []
  },
  {
   "cell_type": "code",
   "execution_count": null,
   "id": "e47327aa",
   "metadata": {},
   "outputs": [],
   "source": []
  },
  {
   "cell_type": "code",
   "execution_count": 67,
   "id": "c1751b47",
   "metadata": {},
   "outputs": [],
   "source": [
    "from tensorflow import keras\n",
    "from keras.models import Sequential\n",
    "from keras.layers import LSTM, Dense, Dropout\n",
    "from keras.callbacks import EarlyStopping"
   ]
  },
  {
   "cell_type": "code",
   "execution_count": 68,
   "id": "db242e17",
   "metadata": {},
   "outputs": [],
   "source": [
    "data_lstm = data.loc[:,['Adj Close','Return','volatility_dcp','trend_macd','momentum_rsi','state']].copy()"
   ]
  },
  {
   "cell_type": "code",
   "execution_count": 69,
   "id": "79249ee1",
   "metadata": {},
   "outputs": [
    {
     "data": {
      "text/html": [
       "<div>\n",
       "<style scoped>\n",
       "    .dataframe tbody tr th:only-of-type {\n",
       "        vertical-align: middle;\n",
       "    }\n",
       "\n",
       "    .dataframe tbody tr th {\n",
       "        vertical-align: top;\n",
       "    }\n",
       "\n",
       "    .dataframe thead th {\n",
       "        text-align: right;\n",
       "    }\n",
       "</style>\n",
       "<table border=\"1\" class=\"dataframe\">\n",
       "  <thead>\n",
       "    <tr style=\"text-align: right;\">\n",
       "      <th></th>\n",
       "      <th>Adj Close</th>\n",
       "      <th>Return</th>\n",
       "      <th>volatility_dcp</th>\n",
       "      <th>trend_macd</th>\n",
       "      <th>momentum_rsi</th>\n",
       "      <th>state</th>\n",
       "    </tr>\n",
       "    <tr>\n",
       "      <th>Date</th>\n",
       "      <th></th>\n",
       "      <th></th>\n",
       "      <th></th>\n",
       "      <th></th>\n",
       "      <th></th>\n",
       "      <th></th>\n",
       "    </tr>\n",
       "  </thead>\n",
       "  <tbody>\n",
       "    <tr>\n",
       "      <th>2000-01-03</th>\n",
       "      <td>786.200012</td>\n",
       "      <td>-0.008962</td>\n",
       "      <td>0.746316</td>\n",
       "      <td>11.071727</td>\n",
       "      <td>64.679734</td>\n",
       "      <td>1</td>\n",
       "    </tr>\n",
       "    <tr>\n",
       "      <th>2000-01-04</th>\n",
       "      <td>755.799988</td>\n",
       "      <td>-0.038667</td>\n",
       "      <td>0.115217</td>\n",
       "      <td>8.251234</td>\n",
       "      <td>42.517744</td>\n",
       "      <td>0</td>\n",
       "    </tr>\n",
       "    <tr>\n",
       "      <th>2000-01-05</th>\n",
       "      <td>757.090027</td>\n",
       "      <td>0.001707</td>\n",
       "      <td>0.256655</td>\n",
       "      <td>6.050324</td>\n",
       "      <td>43.403961</td>\n",
       "      <td>0</td>\n",
       "    </tr>\n",
       "    <tr>\n",
       "      <th>2000-01-06</th>\n",
       "      <td>756.729980</td>\n",
       "      <td>-0.000476</td>\n",
       "      <td>0.250179</td>\n",
       "      <td>4.228293</td>\n",
       "      <td>43.203759</td>\n",
       "      <td>0</td>\n",
       "    </tr>\n",
       "    <tr>\n",
       "      <th>2000-01-07</th>\n",
       "      <td>777.250000</td>\n",
       "      <td>0.027117</td>\n",
       "      <td>0.619245</td>\n",
       "      <td>4.389515</td>\n",
       "      <td>55.735207</td>\n",
       "      <td>1</td>\n",
       "    </tr>\n",
       "    <tr>\n",
       "      <th>...</th>\n",
       "      <td>...</td>\n",
       "      <td>...</td>\n",
       "      <td>...</td>\n",
       "      <td>...</td>\n",
       "      <td>...</td>\n",
       "      <td>...</td>\n",
       "    </tr>\n",
       "    <tr>\n",
       "      <th>2022-02-17</th>\n",
       "      <td>2550.969971</td>\n",
       "      <td>-0.022325</td>\n",
       "      <td>0.443353</td>\n",
       "      <td>-23.528127</td>\n",
       "      <td>40.740828</td>\n",
       "      <td>-1</td>\n",
       "    </tr>\n",
       "    <tr>\n",
       "      <th>2022-02-18</th>\n",
       "      <td>2530.709961</td>\n",
       "      <td>-0.007942</td>\n",
       "      <td>0.352088</td>\n",
       "      <td>-27.206752</td>\n",
       "      <td>38.746777</td>\n",
       "      <td>-1</td>\n",
       "    </tr>\n",
       "    <tr>\n",
       "      <th>2022-02-22</th>\n",
       "      <td>2503.709961</td>\n",
       "      <td>-0.010669</td>\n",
       "      <td>0.106211</td>\n",
       "      <td>-31.932664</td>\n",
       "      <td>36.203651</td>\n",
       "      <td>-1</td>\n",
       "    </tr>\n",
       "    <tr>\n",
       "      <th>2022-02-23</th>\n",
       "      <td>2456.300049</td>\n",
       "      <td>-0.018936</td>\n",
       "      <td>0.008271</td>\n",
       "      <td>-39.053383</td>\n",
       "      <td>32.206376</td>\n",
       "      <td>-1</td>\n",
       "    </tr>\n",
       "    <tr>\n",
       "      <th>2022-02-24</th>\n",
       "      <td>2498.947266</td>\n",
       "      <td>0.017362</td>\n",
       "      <td>0.366470</td>\n",
       "      <td>-40.785185</td>\n",
       "      <td>38.756887</td>\n",
       "      <td>-1</td>\n",
       "    </tr>\n",
       "  </tbody>\n",
       "</table>\n",
       "<p>5544 rows × 6 columns</p>\n",
       "</div>"
      ],
      "text/plain": [
       "              Adj Close    Return  volatility_dcp  trend_macd  momentum_rsi  \\\n",
       "Date                                                                          \n",
       "2000-01-03   786.200012 -0.008962        0.746316   11.071727     64.679734   \n",
       "2000-01-04   755.799988 -0.038667        0.115217    8.251234     42.517744   \n",
       "2000-01-05   757.090027  0.001707        0.256655    6.050324     43.403961   \n",
       "2000-01-06   756.729980 -0.000476        0.250179    4.228293     43.203759   \n",
       "2000-01-07   777.250000  0.027117        0.619245    4.389515     55.735207   \n",
       "...                 ...       ...             ...         ...           ...   \n",
       "2022-02-17  2550.969971 -0.022325        0.443353  -23.528127     40.740828   \n",
       "2022-02-18  2530.709961 -0.007942        0.352088  -27.206752     38.746777   \n",
       "2022-02-22  2503.709961 -0.010669        0.106211  -31.932664     36.203651   \n",
       "2022-02-23  2456.300049 -0.018936        0.008271  -39.053383     32.206376   \n",
       "2022-02-24  2498.947266  0.017362        0.366470  -40.785185     38.756887   \n",
       "\n",
       "            state  \n",
       "Date               \n",
       "2000-01-03      1  \n",
       "2000-01-04      0  \n",
       "2000-01-05      0  \n",
       "2000-01-06      0  \n",
       "2000-01-07      1  \n",
       "...           ...  \n",
       "2022-02-17     -1  \n",
       "2022-02-18     -1  \n",
       "2022-02-22     -1  \n",
       "2022-02-23     -1  \n",
       "2022-02-24     -1  \n",
       "\n",
       "[5544 rows x 6 columns]"
      ]
     },
     "execution_count": 69,
     "metadata": {},
     "output_type": "execute_result"
    }
   ],
   "source": [
    "data_lstm"
   ]
  },
  {
   "cell_type": "code",
   "execution_count": 70,
   "id": "50609760",
   "metadata": {},
   "outputs": [],
   "source": [
    "from sklearn.preprocessing import StandardScaler\n",
    "data_lstm.iloc[:,:-1] = StandardScaler().fit_transform(data_lstm.iloc[:,:-1])"
   ]
  },
  {
   "cell_type": "code",
   "execution_count": 71,
   "id": "05d42e1c",
   "metadata": {},
   "outputs": [
    {
     "data": {
      "text/html": [
       "<div>\n",
       "<style scoped>\n",
       "    .dataframe tbody tr th:only-of-type {\n",
       "        vertical-align: middle;\n",
       "    }\n",
       "\n",
       "    .dataframe tbody tr th {\n",
       "        vertical-align: top;\n",
       "    }\n",
       "\n",
       "    .dataframe thead th {\n",
       "        text-align: right;\n",
       "    }\n",
       "</style>\n",
       "<table border=\"1\" class=\"dataframe\">\n",
       "  <thead>\n",
       "    <tr style=\"text-align: right;\">\n",
       "      <th></th>\n",
       "      <th>Adj Close</th>\n",
       "      <th>Return</th>\n",
       "      <th>volatility_dcp</th>\n",
       "      <th>trend_macd</th>\n",
       "      <th>momentum_rsi</th>\n",
       "      <th>state</th>\n",
       "    </tr>\n",
       "    <tr>\n",
       "      <th>Date</th>\n",
       "      <th></th>\n",
       "      <th></th>\n",
       "      <th></th>\n",
       "      <th></th>\n",
       "      <th></th>\n",
       "      <th></th>\n",
       "    </tr>\n",
       "  </thead>\n",
       "  <tbody>\n",
       "    <tr>\n",
       "      <th>2000-01-03</th>\n",
       "      <td>-0.487103</td>\n",
       "      <td>-0.734459</td>\n",
       "      <td>0.391041</td>\n",
       "      <td>0.664012</td>\n",
       "      <td>0.970446</td>\n",
       "      <td>1</td>\n",
       "    </tr>\n",
       "    <tr>\n",
       "      <th>2000-01-04</th>\n",
       "      <td>-0.544506</td>\n",
       "      <td>-3.093308</td>\n",
       "      <td>-1.644314</td>\n",
       "      <td>0.449276</td>\n",
       "      <td>-1.004414</td>\n",
       "      <td>0</td>\n",
       "    </tr>\n",
       "    <tr>\n",
       "      <th>2000-01-05</th>\n",
       "      <td>-0.542070</td>\n",
       "      <td>0.112792</td>\n",
       "      <td>-1.188161</td>\n",
       "      <td>0.281711</td>\n",
       "      <td>-0.925443</td>\n",
       "      <td>0</td>\n",
       "    </tr>\n",
       "    <tr>\n",
       "      <th>2000-01-06</th>\n",
       "      <td>-0.542750</td>\n",
       "      <td>-0.060515</td>\n",
       "      <td>-1.209046</td>\n",
       "      <td>0.142992</td>\n",
       "      <td>-0.943283</td>\n",
       "      <td>0</td>\n",
       "    </tr>\n",
       "    <tr>\n",
       "      <th>2000-01-07</th>\n",
       "      <td>-0.504003</td>\n",
       "      <td>2.130593</td>\n",
       "      <td>-0.018775</td>\n",
       "      <td>0.155267</td>\n",
       "      <td>0.173397</td>\n",
       "      <td>1</td>\n",
       "    </tr>\n",
       "    <tr>\n",
       "      <th>...</th>\n",
       "      <td>...</td>\n",
       "      <td>...</td>\n",
       "      <td>...</td>\n",
       "      <td>...</td>\n",
       "      <td>...</td>\n",
       "      <td>...</td>\n",
       "    </tr>\n",
       "    <tr>\n",
       "      <th>2022-02-17</th>\n",
       "      <td>2.845200</td>\n",
       "      <td>-1.795558</td>\n",
       "      <td>-0.586043</td>\n",
       "      <td>-1.970224</td>\n",
       "      <td>-1.162756</td>\n",
       "      <td>-1</td>\n",
       "    </tr>\n",
       "    <tr>\n",
       "      <th>2022-02-18</th>\n",
       "      <td>2.806945</td>\n",
       "      <td>-0.653432</td>\n",
       "      <td>-0.880382</td>\n",
       "      <td>-2.250293</td>\n",
       "      <td>-1.340446</td>\n",
       "      <td>-1</td>\n",
       "    </tr>\n",
       "    <tr>\n",
       "      <th>2022-02-22</th>\n",
       "      <td>2.755962</td>\n",
       "      <td>-0.869973</td>\n",
       "      <td>-1.673359</td>\n",
       "      <td>-2.610097</td>\n",
       "      <td>-1.567065</td>\n",
       "      <td>-1</td>\n",
       "    </tr>\n",
       "    <tr>\n",
       "      <th>2022-02-23</th>\n",
       "      <td>2.666441</td>\n",
       "      <td>-1.526451</td>\n",
       "      <td>-1.989225</td>\n",
       "      <td>-3.152228</td>\n",
       "      <td>-1.923263</td>\n",
       "      <td>-1</td>\n",
       "    </tr>\n",
       "    <tr>\n",
       "      <th>2022-02-24</th>\n",
       "      <td>2.746969</td>\n",
       "      <td>1.356001</td>\n",
       "      <td>-0.833999</td>\n",
       "      <td>-3.284078</td>\n",
       "      <td>-1.339545</td>\n",
       "      <td>-1</td>\n",
       "    </tr>\n",
       "  </tbody>\n",
       "</table>\n",
       "<p>5544 rows × 6 columns</p>\n",
       "</div>"
      ],
      "text/plain": [
       "            Adj Close    Return  volatility_dcp  trend_macd  momentum_rsi  \\\n",
       "Date                                                                        \n",
       "2000-01-03  -0.487103 -0.734459        0.391041    0.664012      0.970446   \n",
       "2000-01-04  -0.544506 -3.093308       -1.644314    0.449276     -1.004414   \n",
       "2000-01-05  -0.542070  0.112792       -1.188161    0.281711     -0.925443   \n",
       "2000-01-06  -0.542750 -0.060515       -1.209046    0.142992     -0.943283   \n",
       "2000-01-07  -0.504003  2.130593       -0.018775    0.155267      0.173397   \n",
       "...               ...       ...             ...         ...           ...   \n",
       "2022-02-17   2.845200 -1.795558       -0.586043   -1.970224     -1.162756   \n",
       "2022-02-18   2.806945 -0.653432       -0.880382   -2.250293     -1.340446   \n",
       "2022-02-22   2.755962 -0.869973       -1.673359   -2.610097     -1.567065   \n",
       "2022-02-23   2.666441 -1.526451       -1.989225   -3.152228     -1.923263   \n",
       "2022-02-24   2.746969  1.356001       -0.833999   -3.284078     -1.339545   \n",
       "\n",
       "            state  \n",
       "Date               \n",
       "2000-01-03      1  \n",
       "2000-01-04      0  \n",
       "2000-01-05      0  \n",
       "2000-01-06      0  \n",
       "2000-01-07      1  \n",
       "...           ...  \n",
       "2022-02-17     -1  \n",
       "2022-02-18     -1  \n",
       "2022-02-22     -1  \n",
       "2022-02-23     -1  \n",
       "2022-02-24     -1  \n",
       "\n",
       "[5544 rows x 6 columns]"
      ]
     },
     "execution_count": 71,
     "metadata": {},
     "output_type": "execute_result"
    }
   ],
   "source": [
    "data_lstm"
   ]
  },
  {
   "cell_type": "code",
   "execution_count": 72,
   "id": "02a999d7",
   "metadata": {},
   "outputs": [],
   "source": [
    "X_train_lstm, X_test_lstm = data_lstm.loc['2000-01-01':'2017-12-31'].iloc[:,:-1], data_lstm.loc['2018-01-01':'2021-12-31'].iloc[:,:-1]\n",
    "y_train_lstm, y_test_lstm = data_lstm.loc['2000-01-01':'2017-12-31'].iloc[:,-1], data_lstm.loc['2018-01-01':'2021-12-31'].iloc[:,-1]"
   ]
  },
  {
   "cell_type": "code",
   "execution_count": null,
   "id": "e461b6b9",
   "metadata": {},
   "outputs": [],
   "source": []
  },
  {
   "cell_type": "code",
   "execution_count": null,
   "id": "0e3bbd84",
   "metadata": {},
   "outputs": [],
   "source": []
  }
 ],
 "metadata": {
  "kernelspec": {
   "display_name": "Python 3 (ipykernel)",
   "language": "python",
   "name": "python3"
  },
  "language_info": {
   "codemirror_mode": {
    "name": "ipython",
    "version": 3
   },
   "file_extension": ".py",
   "mimetype": "text/x-python",
   "name": "python",
   "nbconvert_exporter": "python",
   "pygments_lexer": "ipython3",
   "version": "3.8.12"
  },
  "toc": {
   "base_numbering": 1,
   "nav_menu": {},
   "number_sections": true,
   "sideBar": true,
   "skip_h1_title": false,
   "title_cell": "Table of Contents",
   "title_sidebar": "Contents",
   "toc_cell": false,
   "toc_position": {},
   "toc_section_display": true,
   "toc_window_display": false
  }
 },
 "nbformat": 4,
 "nbformat_minor": 5
}
